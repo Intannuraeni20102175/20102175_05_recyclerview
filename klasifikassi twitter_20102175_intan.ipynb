{
  "nbformat": 4,
  "nbformat_minor": 0,
  "metadata": {
    "colab": {
      "provenance": [],
      "mount_file_id": "1hPC4dN2ICyqb_5jQ3Vt-i7AMDGfln0D0",
      "authorship_tag": "ABX9TyNY9L2KABo077yFvUbYrULs",
      "include_colab_link": true
    },
    "kernelspec": {
      "name": "python3",
      "display_name": "Python 3"
    },
    "language_info": {
      "name": "python"
    }
  },
  "cells": [
    {
      "cell_type": "markdown",
      "metadata": {
        "id": "view-in-github",
        "colab_type": "text"
      },
      "source": [
        "<a href=\"https://colab.research.google.com/github/Intannuraeni20102175/20102175_05_recyclerview/blob/main/klasifikassi%20twitter_20102175_intan.ipynb\" target=\"_parent\"><img src=\"https://colab.research.google.com/assets/colab-badge.svg\" alt=\"Open In Colab\"/></a>"
      ]
    },
    {
      "cell_type": "markdown",
      "source": [
        "NIM = 20102175\n",
        "NAMA = INTAN NURAENI"
      ],
      "metadata": {
        "id": "Sba18V8SOjDN"
      }
    },
    {
      "cell_type": "code",
      "execution_count": 1,
      "metadata": {
        "id": "KywDKMIYHDli"
      },
      "outputs": [],
      "source": [
        "import numpy as np\n",
        "import pandas as pd\n",
        "from sklearn.feature_extraction.text import TfidfVectorizer\n",
        "from sklearn.model_selection import train_test_split\n",
        "from sklearn.linear_model import LogisticRegression\n",
        "from sklearn.naive_bayes import MultinomialNB\n",
        "from sklearn.svm import SVC\n",
        "from sklearn.ensemble import RandomForestClassifier\n",
        "from sklearn.metrics import classification_report\n",
        "\n"
      ]
    },
    {
      "cell_type": "code",
      "source": [
        "from google.colab import drive\n",
        "drive.mount('/content/drive')"
      ],
      "metadata": {
        "colab": {
          "base_uri": "https://localhost:8080/"
        },
        "id": "LajB5mifHmoS",
        "outputId": "704e0daf-3843-406b-a862-f35c832a1203"
      },
      "execution_count": 2,
      "outputs": [
        {
          "output_type": "stream",
          "name": "stdout",
          "text": [
            "Drive already mounted at /content/drive; to attempt to forcibly remount, call drive.mount(\"/content/drive\", force_remount=True).\n"
          ]
        }
      ]
    },
    {
      "cell_type": "code",
      "source": [
        "file_path = '/content/drive/MyDrive/diabetes/LabeledText.xlsx'"
      ],
      "metadata": {
        "id": "qkqkeaHkJx1r"
      },
      "execution_count": 3,
      "outputs": []
    },
    {
      "cell_type": "code",
      "source": [
        "data = pd.read_excel(file_path)"
      ],
      "metadata": {
        "id": "CGrwj9zPJ6S_"
      },
      "execution_count": 4,
      "outputs": []
    },
    {
      "cell_type": "code",
      "source": [
        "# Preprocessing data\n",
        "vectorizer = TfidfVectorizer()\n",
        "X = vectorizer.fit_transform(data['Caption'])\n",
        "y = data['LABEL']"
      ],
      "metadata": {
        "id": "6aJgY_mBMgLD"
      },
      "execution_count": null,
      "outputs": []
    },
    {
      "cell_type": "code",
      "source": [
        "import nltk\n",
        "nltk.download('punkt')"
      ],
      "metadata": {
        "id": "h_ATe2Rmgsck"
      },
      "execution_count": null,
      "outputs": []
    },
    {
      "cell_type": "code",
      "source": [
        "import pandas as pd\n",
        "import nltk\n",
        "from nltk.corpus import stopwords\n",
        "from nltk.tokenize import word_tokenize\n",
        "from nltk.stem import PorterStemmer\n",
        "import re\n",
        "\n",
        "\n",
        "# Cleansing: Menghapus karakter non-alphanumeric dan tanda baca\n",
        "def cleansing(text):\n",
        "    return re.sub(r'[^a-zA-Z\\s]', '', text)\n",
        "\n",
        "data['Caption'] = data['Caption'].apply(cleansing)\n",
        "\n",
        "# Case Folding: Mengubah teks menjadi lowercase\n",
        "data['Caption'] = data['Caption'].apply(lambda x: x.lower())\n",
        "\n",
        "# Tokenizing: Memisahkan teks menjadi kata-kata (token)\n",
        "data['tokens'] = data['Caption'].apply(word_tokenize)\n",
        "\n",
        "# Mengimpor stopwords dari NLTK dan membuat set stopwords\n",
        "nltk.download('stopwords')\n",
        "stop_words = set(stopwords.words('english'))\n",
        "\n",
        "# Menghapus stopwords dari teks\n",
        "data['tokens'] = data['tokens'].apply(lambda x: [word for word in x if word not in stop_words])\n",
        "\n",
        "# Stemming: Mengubah kata-kata menjadi bentuk dasarnya\n",
        "stemmer = PorterStemmer()\n",
        "data['tokens'] = data['tokens'].apply(lambda x: [stemmer.stem(word) for word in x])\n",
        "\n",
        "# Menampilkan hasil preprocessing\n",
        "print(data[['Caption', 'tokens']].head())\n"
      ],
      "metadata": {
        "id": "hX0c6sFlgzxs"
      },
      "execution_count": null,
      "outputs": []
    },
    {
      "cell_type": "code",
      "source": [],
      "metadata": {
        "id": "gvPceQSYgtT-"
      },
      "execution_count": null,
      "outputs": []
    },
    {
      "cell_type": "code",
      "source": [
        "X_train, X_test, y_train, y_test = train_test_split(X, y, test_size=0.2, random_state=42)"
      ],
      "metadata": {
        "id": "5EtAe1ToM7n_"
      },
      "execution_count": null,
      "outputs": []
    },
    {
      "cell_type": "code",
      "source": [
        "# 1. Logistic Regression\n",
        "lr_classifier = LogisticRegression()\n",
        "lr_classifier.fit(X_train, y_train)\n",
        "lr_predictions = lr_classifier.predict(X_test)\n",
        "print(\"Logistic Regression:\")\n",
        "print(classification_report(y_test, lr_predictions))"
      ],
      "metadata": {
        "colab": {
          "base_uri": "https://localhost:8080/"
        },
        "id": "8RI3iLupM9DC",
        "outputId": "7aacd2c0-1e2c-49b7-bf0a-ccf28cadf155"
      },
      "execution_count": null,
      "outputs": [
        {
          "output_type": "stream",
          "name": "stdout",
          "text": [
            "Logistic Regression:\n",
            "              precision    recall  f1-score   support\n",
            "\n",
            "    negative       0.73      0.60      0.66       284\n",
            "     neutral       0.62      0.74      0.67       367\n",
            "    positive       0.76      0.71      0.73       323\n",
            "\n",
            "    accuracy                           0.69       974\n",
            "   macro avg       0.70      0.68      0.69       974\n",
            "weighted avg       0.70      0.69      0.69       974\n",
            "\n"
          ]
        }
      ]
    },
    {
      "cell_type": "code",
      "source": [
        "# 2. Naïve Bayes\n",
        "nb_classifier = MultinomialNB()\n",
        "nb_classifier.fit(X_train, y_train)\n",
        "nb_predictions = nb_classifier.predict(X_test)\n",
        "print(\"Naïve Bayes:\")\n",
        "print(classification_report(y_test, nb_predictions))"
      ],
      "metadata": {
        "colab": {
          "base_uri": "https://localhost:8080/"
        },
        "id": "rfT6W074NAgf",
        "outputId": "7e1ff817-4346-4dfc-86da-ae91ba168875"
      },
      "execution_count": null,
      "outputs": [
        {
          "output_type": "stream",
          "name": "stdout",
          "text": [
            "Naïve Bayes:\n",
            "              precision    recall  f1-score   support\n",
            "\n",
            "    negative       0.71      0.56      0.62       284\n",
            "     neutral       0.63      0.61      0.62       367\n",
            "    positive       0.64      0.79      0.71       323\n",
            "\n",
            "    accuracy                           0.65       974\n",
            "   macro avg       0.66      0.65      0.65       974\n",
            "weighted avg       0.66      0.65      0.65       974\n",
            "\n"
          ]
        }
      ]
    },
    {
      "cell_type": "code",
      "source": [
        "# 3. Support Vector Machines (SVM)\n",
        "svm_classifier = SVC()\n",
        "svm_classifier.fit(X_train, y_train)\n",
        "svm_predictions = svm_classifier.predict(X_test)\n",
        "print(\"Support Vector Machines (SVM):\")\n",
        "print(classification_report(y_test, svm_predictions))"
      ],
      "metadata": {
        "colab": {
          "base_uri": "https://localhost:8080/"
        },
        "id": "5SPLCuqbNEUO",
        "outputId": "96b8b81d-175b-499c-951f-a9f6f6c9085e"
      },
      "execution_count": null,
      "outputs": [
        {
          "output_type": "stream",
          "name": "stdout",
          "text": [
            "Support Vector Machines (SVM):\n",
            "              precision    recall  f1-score   support\n",
            "\n",
            "    negative       0.72      0.52      0.60       284\n",
            "     neutral       0.58      0.77      0.66       367\n",
            "    positive       0.77      0.67      0.72       323\n",
            "\n",
            "    accuracy                           0.66       974\n",
            "   macro avg       0.69      0.65      0.66       974\n",
            "weighted avg       0.68      0.66      0.66       974\n",
            "\n"
          ]
        }
      ]
    },
    {
      "cell_type": "code",
      "source": [
        "# 4. Random Forest\n",
        "rf_classifier = RandomForestClassifier()\n",
        "rf_classifier.fit(X_train, y_train)\n",
        "rf_predictions = rf_classifier.predict(X_test)\n",
        "print(\"Random Forest:\")\n",
        "print(classification_report(y_test, rf_predictions))"
      ],
      "metadata": {
        "colab": {
          "base_uri": "https://localhost:8080/"
        },
        "id": "W72nMQKZNIS9",
        "outputId": "6d3d35f8-513a-40b4-af80-89b7159e8e63"
      },
      "execution_count": null,
      "outputs": [
        {
          "output_type": "stream",
          "name": "stdout",
          "text": [
            "Random Forest:\n",
            "              precision    recall  f1-score   support\n",
            "\n",
            "    negative       0.73      0.44      0.55       284\n",
            "     neutral       0.57      0.81      0.67       367\n",
            "    positive       0.79      0.67      0.72       323\n",
            "\n",
            "    accuracy                           0.66       974\n",
            "   macro avg       0.69      0.64      0.65       974\n",
            "weighted avg       0.69      0.66      0.65       974\n",
            "\n"
          ]
        }
      ]
    },
    {
      "cell_type": "code",
      "source": [],
      "metadata": {
        "id": "Ofnsc9VaOec4"
      },
      "execution_count": null,
      "outputs": []
    },
    {
      "cell_type": "markdown",
      "source": [],
      "metadata": {
        "id": "NmiLBfaIOh9S"
      }
    },
    {
      "cell_type": "code",
      "source": [
        "\n",
        "import matplotlib.pyplot as plt\n",
        "models = [\n",
        "    LogisticRegression(),\n",
        "    MultinomialNB(),\n",
        "    SVC(),\n",
        "    RandomForestClassifier()\n",
        "]\n",
        "\n",
        "model_names = [\n",
        "    \"Logistic Regression\",\n",
        "    \"Naïve Bayes\",\n",
        "    \"Support Vector Machines (SVM)\",\n",
        "    \"Random Forest\"\n",
        "]\n",
        "\n",
        "# Melatih dan mengevaluasi model\n",
        "results = []\n",
        "for model in models:\n",
        "    model.fit(X_train, y_train)\n",
        "    predictions = model.predict(X_test)\n",
        "    report = classification_report(y_test, predictions, output_dict=True)\n",
        "    results.append(report['weighted avg']['f1-score'])\n",
        "\n",
        "# Membuat grafik perbandingan\n",
        "plt.figure(figsize=(10, 6))\n",
        "plt.bar(model_names, results)\n",
        "plt.xlabel('Algoritma')\n",
        "plt.ylabel('F1-Score (Weighted Avg)')\n",
        "plt.title('Perbandingan Klasifikasi menggunakan Algoritma')\n",
        "plt.show()\n"
      ],
      "metadata": {
        "colab": {
          "base_uri": "https://localhost:8080/",
          "height": 564
        },
        "id": "UabI6A2MNg1b",
        "outputId": "07d74de3-7d6b-4aed-8b94-30afb3734b44"
      },
      "execution_count": null,
      "outputs": [
        {
          "output_type": "display_data",
          "data": {
            "text/plain": [
              "<Figure size 1000x600 with 1 Axes>"
            ],
            "image/png": "[encoded data removed]"
          },
          "metadata": {}
        }
      ]
    },
    {
      "cell_type": "code",
      "source": [
        "\n",
        "# Membuat grafik perbandingan\n",
        "plt.figure(figsize=(12, 6))\n",
        "\n",
        "plt.subplot(2, 2, 1)\n",
        "plt.bar(model_names, accuracies)\n",
        "plt.xlabel('Algoritma')\n",
        "plt.ylabel('Akurasi')\n",
        "plt.title('Perbandingan Akurasi')\n",
        "\n",
        "plt.subplot(2, 2, 2)\n",
        "plt.bar(model_names, precisions)\n",
        "plt.xlabel('Algoritma')\n",
        "plt.ylabel('Presisi')\n",
        "plt.title('Perbandingan Presisi')\n",
        "\n",
        "plt.subplot(2, 2, 3)\n",
        "plt.bar(model_names, recalls)\n",
        "plt.xlabel('Algoritma')\n",
        "plt.ylabel('Recall')\n",
        "plt.title('Perbandingan Recall')\n",
        "\n",
        "plt.subplot(2, 2, 4)\n",
        "plt.bar(model_names, f1_scores)\n",
        "plt.xlabel('Algoritma')\n",
        "plt.ylabel('F1-Score')\n",
        "plt.title('Perbandingan F1-Score')\n",
        "\n",
        "plt.tight_layout()\n",
        "plt.show()"
      ],
      "metadata": {
        "colab": {
          "base_uri": "https://localhost:8080/",
          "height": 235
        },
        "id": "JiYs79u8Q7hT",
        "outputId": "53cc90b3-8d27-44b9-d416-1ac286f32e8c"
      },
      "execution_count": 20,
      "outputs": [
        {
          "output_type": "error",
          "ename": "NameError",
          "evalue": "ignored",
          "traceback": [
            "\u001b[0;31m---------------------------------------------------------------------------\u001b[0m",
            "\u001b[0;31mNameError\u001b[0m                                 Traceback (most recent call last)",
            "\u001b[0;32m<ipython-input-20-7b560c324fa4>\u001b[0m in \u001b[0;36m<cell line: 2>\u001b[0;34m()\u001b[0m\n\u001b[1;32m      1\u001b[0m \u001b[0;31m# Membuat grafik perbandingan\u001b[0m\u001b[0;34m\u001b[0m\u001b[0;34m\u001b[0m\u001b[0m\n\u001b[0;32m----> 2\u001b[0;31m \u001b[0mplt\u001b[0m\u001b[0;34m.\u001b[0m\u001b[0mfigure\u001b[0m\u001b[0;34m(\u001b[0m\u001b[0mfigsize\u001b[0m\u001b[0;34m=\u001b[0m\u001b[0;34m(\u001b[0m\u001b[0;36m12\u001b[0m\u001b[0;34m,\u001b[0m \u001b[0;36m6\u001b[0m\u001b[0;34m)\u001b[0m\u001b[0;34m)\u001b[0m\u001b[0;34m\u001b[0m\u001b[0;34m\u001b[0m\u001b[0m\n\u001b[0m\u001b[1;32m      3\u001b[0m \u001b[0;34m\u001b[0m\u001b[0m\n\u001b[1;32m      4\u001b[0m \u001b[0mplt\u001b[0m\u001b[0;34m.\u001b[0m\u001b[0msubplot\u001b[0m\u001b[0;34m(\u001b[0m\u001b[0;36m2\u001b[0m\u001b[0;34m,\u001b[0m \u001b[0;36m2\u001b[0m\u001b[0;34m,\u001b[0m \u001b[0;36m1\u001b[0m\u001b[0;34m)\u001b[0m\u001b[0;34m\u001b[0m\u001b[0;34m\u001b[0m\u001b[0m\n\u001b[1;32m      5\u001b[0m \u001b[0mplt\u001b[0m\u001b[0;34m.\u001b[0m\u001b[0mbar\u001b[0m\u001b[0;34m(\u001b[0m\u001b[0mmodel_names\u001b[0m\u001b[0;34m,\u001b[0m \u001b[0maccuracies\u001b[0m\u001b[0;34m)\u001b[0m\u001b[0;34m\u001b[0m\u001b[0;34m\u001b[0m\u001b[0m\n",
            "\u001b[0;31mNameError\u001b[0m: name 'plt' is not defined"
          ]
        }
      ]
    },
    {
      "cell_type": "code",
      "source": [
        "import pandas as pd\n",
        "from sklearn.feature_extraction.text import TfidfVectorizer\n",
        "from sklearn.model_selection import train_test_split\n",
        "from sklearn.linear_model import LogisticRegression\n",
        "from sklearn.naive_bayes import MultinomialNB\n",
        "from sklearn.svm import SVC\n",
        "from sklearn.ensemble import RandomForestClassifier\n",
        "from sklearn.metrics import classification_report\n",
        "\n",
        "\n",
        "# Preprocessing data\n",
        "vectorizer = TfidfVectorizer()\n",
        "X = vectorizer.fit_transform(data['Caption'])\n",
        "y = data['LABEL']\n",
        "\n",
        "# Memisahkan data menjadi data latih dan data uji\n",
        "X_train, X_test, y_train, y_test = train_test_split(X, y, test_size=0.2, random_state=42)\n",
        "\n",
        "# Menginisialisasi model\n",
        "models = [\n",
        "    ('Logistic Regression', LogisticRegression()),\n",
        "    ('Naïve Bayes', MultinomialNB()),\n",
        "    ('Support Vector Machines (SVM)', SVC()),\n",
        "    ('Random Forest', RandomForestClassifier())\n",
        "]\n",
        "\n",
        "# Melatih dan mengevaluasi model\n",
        "results = []\n",
        "for name, model in models:\n",
        "    model.fit(X_train, y_train)\n",
        "    predictions = model.predict(X_test)\n",
        "    report = classification_report(y_test, predictions, output_dict=True)\n",
        "    results.append([name, report['accuracy'], report['weighted avg']['precision'],\n",
        "                    report['weighted avg']['recall'], report['weighted avg']['f1-score']])\n",
        "\n",
        "# Membuat tabel hasil klasifikasi\n",
        "result_df = pd.DataFrame(results, columns=['Algoritma', 'Akurasi', 'Presisi', 'Recall', 'F1-Score'])\n",
        "print(result_df)\n"
      ],
      "metadata": {
        "colab": {
          "base_uri": "https://localhost:8080/"
        },
        "id": "hQdpq-rj5HS0",
        "outputId": "380d3c1a-e33a-43c9-ac90-595add963ed8"
      },
      "execution_count": 6,
      "outputs": [
        {
          "output_type": "stream",
          "name": "stdout",
          "text": [
            "                       Algoritma   Akurasi   Presisi    Recall  F1-Score\n",
            "0            Logistic Regression  0.686858  0.696310  0.686858  0.687097\n",
            "1                    Naïve Bayes  0.651951  0.655483  0.651951  0.648770\n",
            "2  Support Vector Machines (SVM)  0.664271  0.682801  0.664271  0.663175\n",
            "3                  Random Forest  0.656057  0.683953  0.656057  0.652007\n"
          ]
        }
      ]
    }
  ]
}